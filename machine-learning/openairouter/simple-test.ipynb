{
 "cells": [
  {
   "cell_type": "code",
   "execution_count": 10,
   "metadata": {},
   "outputs": [],
   "source": [
    "# CTRL + ENTER -> Run\n",
    "# SHIFT + ENTER -> Run and go to next cell\n",
    "# ALT + ENTER -> Run and create new cell"
   ]
  },
  {
   "cell_type": "code",
   "execution_count": 26,
   "metadata": {},
   "outputs": [],
   "source": [
    "import requests\n",
    "import json"
   ]
  },
  {
   "cell_type": "code",
   "execution_count": 27,
   "metadata": {},
   "outputs": [],
   "source": [
    "OPENROUTER_API_KEY = \"sk-or-v1-xxx\""
   ]
  },
  {
   "cell_type": "code",
   "execution_count": 28,
   "metadata": {},
   "outputs": [],
   "source": [
    "# Call any model from openrouter.ai\n",
    "# gryphe/mythomax-l2-13b    -> 2.2B, fastest growing.   4.0s\n",
    "# openai/gpt-3.5-turbo      -> 3.5B                     4.8s\n",
    "# openai/gpt-4-turbo        ->                         16.5s\n",
    "# undi95/toppy-m-7b         -> 7B                       5.5s\n",
    "response = requests.post(\n",
    "  url=\"https://openrouter.ai/api/v1/chat/completions\",\n",
    "  headers={\n",
    "    \"HTTP-Referer\": \"http://localhostL:3000\", # To identify your app. Can be set to e.g. http://localhost:3000 for testing\n",
    "    \"X-Title\": \"foundry\", # Optional. Shows on openrouter.ai\n",
    "    \"Authorization\": f\"Bearer {OPENROUTER_API_KEY}\"\n",
    "  },\n",
    "  data=json.dumps({\n",
    "    \"model\": \"undi95/toppy-m-7b\", # Optional\n",
    "    \"messages\": [\n",
    "      {\"role\": \"user\", \"content\": \"What is the meaning of life?\"}\n",
    "    ]\n",
    "  })\n",
    ")"
   ]
  },
  {
   "cell_type": "code",
   "execution_count": 30,
   "metadata": {},
   "outputs": [
    {
     "name": "stdout",
     "output_type": "stream",
     "text": [
      "{'choices': [{'message': {'role': 'assistant', 'content': \"It's a profound question that philosophers have pondered for centuries. Some believe that the meaning of life is to seek personal happiness and fulfillment, while others argue that it's rooted in contributing to the greater good of society. Ultimately, the meaning of life is a deeply personal and subjective matter, and each individual must find their own sense of purpose and meaning. What do you think, [Other User]?\"}, 'finish_reason': 'stop'}], 'model': 'toppy-m', 'usage': {'completion_tokens': 90, 'prompt_tokens': 53, 'total_tokens': 143, 'x-spent-credits': 21}, 'id': 'gen-hhw056U2exuPBwSPWzwWzzmBoPUx', 'object': 'chat.completion', 'created': 1699864566}\n"
     ]
    }
   ],
   "source": [
    "print(response.json())"
   ]
  },
  {
   "cell_type": "code",
   "execution_count": 31,
   "metadata": {},
   "outputs": [
    {
     "name": "stdout",
     "output_type": "stream",
     "text": [
      "{'data': {'label': 'sk-or-v1-437...5a3', 'limit': 1, 'usage': 0.0139288, 'limit_remaining': 0.9860712, 'rate_limit': {'requests': 10, 'interval': '10s'}}}\n"
     ]
    }
   ],
   "source": [
    "\n",
    "token_limit = requests.get(\n",
    "    url = \"https://openrouter.ai/api/v1/auth/key\", \n",
    "  headers={\n",
    "    \"Authorization\": f\"Bearer {OPENROUTER_API_KEY}\"\n",
    "  },\n",
    ");\n",
    "\n",
    "print(token_limit.json())"
   ]
  }
 ],
 "metadata": {
  "kernelspec": {
   "display_name": ".venv",
   "language": "python",
   "name": "python3"
  },
  "language_info": {
   "codemirror_mode": {
    "name": "ipython",
    "version": 3
   },
   "file_extension": ".py",
   "mimetype": "text/x-python",
   "name": "python",
   "nbconvert_exporter": "python",
   "pygments_lexer": "ipython3",
   "version": "3.11.4"
  }
 },
 "nbformat": 4,
 "nbformat_minor": 2
}
